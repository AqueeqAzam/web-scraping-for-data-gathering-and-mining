{
  "nbformat": 4,
  "nbformat_minor": 0,
  "metadata": {
    "colab": {
      "provenance": [],
      "authorship_tag": "ABX9TyPLz77AOoQxLgN5hnTPVMVR",
      "include_colab_link": true
    },
    "kernelspec": {
      "name": "python3",
      "display_name": "Python 3"
    },
    "language_info": {
      "name": "python"
    }
  },
  "cells": [
    {
      "cell_type": "markdown",
      "metadata": {
        "id": "view-in-github",
        "colab_type": "text"
      },
      "source": [
        "<a href=\"https://colab.research.google.com/github/AqueeqAzam/web-scraping-for-data-gathering-and-mining/blob/main/web_scraping.ipynb\" target=\"_parent\"><img src=\"https://colab.research.google.com/assets/colab-badge.svg\" alt=\"Open In Colab\"/></a>"
      ]
    },
    {
      "cell_type": "markdown",
      "source": [
        "# `Basic Idea`"
      ],
      "metadata": {
        "id": "9s1OsZWhK8R8"
      }
    },
    {
      "cell_type": "code",
      "execution_count": null,
      "metadata": {
        "colab": {
          "base_uri": "https://localhost:8080/",
          "height": 35
        },
        "id": "izjdlYUv3gTy",
        "outputId": "d7b5d200-de02-4904-aae7-7ef56d09a940"
      },
      "outputs": [
        {
          "output_type": "execute_result",
          "data": {
            "text/plain": [
              "'https://www.facebook.com/'"
            ],
            "application/vnd.google.colaboratory.intrinsic+json": {
              "type": "string"
            }
          },
          "metadata": {},
          "execution_count": 10
        }
      ],
      "source": [
        "import requests\n",
        "\n",
        "web = requests.get(\"https://facebook.com\")\n",
        "web\n",
        "\n",
        "# status code\n",
        "web.status_code\n",
        "\n",
        "# text\n",
        "web.text\n",
        "\n",
        "# web content\n",
        "web.content\n",
        "\n",
        "# web url\n",
        "web.url"
      ]
    },
    {
      "cell_type": "markdown",
      "source": [
        "# `HTML Parsing`"
      ],
      "metadata": {
        "id": "uIIzQy2c6BjT"
      }
    },
    {
      "cell_type": "code",
      "source": [
        "import requests\n",
        "from bs4 import BeautifulSoup\n",
        "\n",
        "web = requests.get(\"https://pypi.org/\")\n",
        "web\n",
        "\n",
        "\n",
        "# display html page of website\n",
        "soup = BeautifulSoup(web.content, 'html.parser')\n",
        "soup\n",
        "\n",
        "# display title of web\n",
        "soup.title\n",
        "\n",
        "# website name\n",
        "soup.title.text\n",
        "\n",
        "# display p, h1, div, img etc\n",
        "soup.div\n",
        "\n",
        "# display paragraph\n",
        "soup.find('p')\n",
        "\n",
        "# display all p, h1, div, img etc\n",
        "soup.find_all('p')"
      ],
      "metadata": {
        "id": "SdK5_ZFf6G-o"
      },
      "execution_count": null,
      "outputs": []
    },
    {
      "cell_type": "markdown",
      "source": [
        "# `Webpage elements`"
      ],
      "metadata": {
        "id": "JAIDzPTZDSaJ"
      }
    },
    {
      "cell_type": "code",
      "source": [
        "from typing_extensions import Type\n",
        "import requests\n",
        "from bs4 import BeautifulSoup\n",
        "import bs4\n",
        "\n",
        "web = requests.get(\"https://engineinfos.com/\")\n",
        "web\n",
        "\n",
        "\n",
        "# display html page of website\n",
        "soup = BeautifulSoup(web.content, 'html.parser')\n",
        "soup\n",
        "\n",
        "# display every tag of web page\n",
        "tag = soup.html\n",
        "type(tag)\n",
        "\n",
        "# display body of website\n",
        "tag = soup.body\n",
        "tag\n",
        "\n",
        "title = soup.title\n",
        "title"
      ],
      "metadata": {
        "colab": {
          "base_uri": "https://localhost:8080/"
        },
        "id": "CD1uDrx573H_",
        "outputId": "d19fbd54-9e9d-4229-c21e-f21198ea9371"
      },
      "execution_count": null,
      "outputs": [
        {
          "output_type": "execute_result",
          "data": {
            "text/plain": [
              "<title>Engine Infos</title>"
            ]
          },
          "metadata": {},
          "execution_count": 36
        }
      ]
    },
    {
      "cell_type": "markdown",
      "source": [
        "# `Navigable String`"
      ],
      "metadata": {
        "id": "vEwPzUZDDkwy"
      }
    },
    {
      "cell_type": "code",
      "source": [
        "from typing_extensions import Type\n",
        "import requests\n",
        "from bs4 import BeautifulSoup\n",
        "import bs4\n",
        "\n",
        "web = requests.get(\"https://engineinfos.com/\")\n",
        "web\n",
        "\n",
        "# display html page of website\n",
        "soup = BeautifulSoup(web.content, 'html.parser')\n",
        "soup\n",
        "\n",
        "# Check if a <p> tag exists before accessing .string\n",
        "p_tag = soup.p\n",
        "if p_tag:\n",
        "    tag = p_tag.string\n",
        "    print(tag)\n",
        "else:\n",
        "    print(\"No <p> tag found.\")\n",
        "\n"
      ],
      "metadata": {
        "id": "Mf13eRv9CKzo"
      },
      "execution_count": null,
      "outputs": []
    },
    {
      "cell_type": "markdown",
      "source": [
        "# `Comments`"
      ],
      "metadata": {
        "id": "cKnQufzvFBOR"
      }
    },
    {
      "cell_type": "code",
      "source": [
        "import requests\n",
        "from bs4 import BeautifulSoup\n",
        "import bs4\n",
        "\n",
        "web = requests.get(\"https://engineinfos.com/\")\n",
        "web\n",
        "\n",
        "soup = BeautifulSoup(web.content, 'html.parser')\n",
        "\n",
        "comm = soup.body.prettify()\n",
        "print(comm, end=\" \")\n"
      ],
      "metadata": {
        "colab": {
          "base_uri": "https://localhost:8080/"
        },
        "id": "2j7c4ZzrEZiP",
        "outputId": "f7b42c43-00f5-456e-d79d-bc0fb2bd9d32"
      },
      "execution_count": null,
      "outputs": [
        {
          "output_type": "stream",
          "name": "stdout",
          "text": [
            "<body>\n",
            " <amp-skimlinks layout=\"nodisplay\" publisher-code=\"256130X1740293\">\n",
            " </amp-skimlinks>\n",
            " <div id=\"root\">\n",
            " </div>\n",
            " <script src=\"https://s.skimresources.com/js/256130X1740293.skimlinks.js\" type=\"text/javascript\">\n",
            " </script>\n",
            "</body>\n",
            " "
          ]
        }
      ]
    },
    {
      "cell_type": "markdown",
      "source": [
        "# `Beautiful Soup`"
      ],
      "metadata": {
        "id": "kvCNO9zmKrm8"
      }
    },
    {
      "cell_type": "code",
      "source": [
        "import requests\n",
        "from bs4 import BeautifulSoup\n",
        "import bs4\n",
        "\n",
        "web = requests.get(\"https://engineinfos.com/\")\n",
        "web\n",
        "\n",
        "soup = BeautifulSoup(web.content, 'html.parser')\n",
        "soup\n",
        "\n",
        "# display title\n",
        "soup.title\n",
        "\n",
        "soup.body\n",
        "\n",
        "soup.find('h1')\n",
        "\n",
        "# find elements by id\n",
        "id_data = soup.find('div', id=\"root\")\n",
        "id_data"
      ],
      "metadata": {
        "colab": {
          "base_uri": "https://localhost:8080/"
        },
        "id": "9Q5TWlreHMuA",
        "outputId": "61d69bb4-7a9d-4035-e429-22a8d4ad7ec9"
      },
      "execution_count": null,
      "outputs": [
        {
          "output_type": "execute_result",
          "data": {
            "text/plain": [
              "<div id=\"root\"></div>"
            ]
          },
          "metadata": {},
          "execution_count": 9
        }
      ]
    }
  ]
}